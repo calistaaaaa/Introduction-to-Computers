{
  "nbformat": 4,
  "nbformat_minor": 0,
  "metadata": {
    "colab": {
      "provenance": [],
      "authorship_tag": "ABX9TyPDQ7wtd9Zztklvs3o9i9jw",
      "include_colab_link": true
    },
    "kernelspec": {
      "name": "python3",
      "display_name": "Python 3"
    },
    "language_info": {
      "name": "python"
    }
  },
  "cells": [
    {
      "cell_type": "markdown",
      "metadata": {
        "id": "view-in-github",
        "colab_type": "text"
      },
      "source": [
        "<a href=\"https://colab.research.google.com/github/calistaaaaa/Introduction-to-Computers/blob/main/0508.ipynb\" target=\"_parent\"><img src=\"https://colab.research.google.com/assets/colab-badge.svg\" alt=\"Open In Colab\"/></a>"
      ]
    },
    {
      "cell_type": "code",
      "source": [
        "temperature = float(input(\"請輸入體溫\"))\n",
        "if(temperature>=37.5):\n",
        "  print(\"體溫過高!\")\n",
        "elif(temperature>=37 and temperature<=37.4):\n",
        "  print(\"體溫略高!\")\n",
        "elif(temperature>=34 and temperature<=36.9):\n",
        "  print(\"體溫正常!\")\n",
        "else:\n",
        "  print(\"體溫異常，請重新量測!\")"
      ],
      "metadata": {
        "colab": {
          "base_uri": "https://localhost:8080/"
        },
        "id": "dG33sQDj0EFF",
        "outputId": "5c8cf4a8-b7c8-400e-db97-91c079104f27"
      },
      "execution_count": 1,
      "outputs": [
        {
          "output_type": "stream",
          "name": "stdout",
          "text": [
            "請輸入體溫38.2\n",
            "體溫過高!\n"
          ]
        }
      ]
    },
    {
      "cell_type": "code",
      "source": [
        "temperature = float(input(\"請輸入體溫\"))\n",
        "if(temperature>=37.5):\n",
        "  print(\"體溫過高!\")\n",
        "elif(temperature>=37 and temperature<=37.4):\n",
        "  print(\"體溫略高!\")\n",
        "elif(temperature>=34 and temperature<=36.9):\n",
        "  print(\"體溫正常!\")\n",
        "else:\n",
        "  print(\"體溫異常，請重新量測!\")"
      ],
      "metadata": {
        "colab": {
          "base_uri": "https://localhost:8080/"
        },
        "id": "YyoSmmu4_mV5",
        "outputId": "7c645a64-5650-4598-a9b3-8cfd129210dc"
      },
      "execution_count": 2,
      "outputs": [
        {
          "output_type": "stream",
          "name": "stdout",
          "text": [
            "請輸入體溫37.1\n",
            "體溫略高!\n"
          ]
        }
      ]
    },
    {
      "cell_type": "code",
      "source": [
        "temperature = float(input(\"請輸入體溫\"))\n",
        "if(temperature>=37.5):\n",
        "  print(\"體溫過高!\")\n",
        "elif(temperature>=37 and temperature<=37.4):\n",
        "  print(\"體溫略高!\")\n",
        "elif(temperature>=34 and temperature<=36.9):\n",
        "  print(\"體溫正常!\")\n",
        "else:\n",
        "  print(\"體溫異常，請重新量測!\")"
      ],
      "metadata": {
        "colab": {
          "base_uri": "https://localhost:8080/"
        },
        "id": "HZ2HieqS_q75",
        "outputId": "3a701aec-61ba-4fd7-906d-21d70c542ae5"
      },
      "execution_count": 3,
      "outputs": [
        {
          "output_type": "stream",
          "name": "stdout",
          "text": [
            "請輸入體溫36.6\n",
            "體溫正常!\n"
          ]
        }
      ]
    },
    {
      "cell_type": "code",
      "source": [
        "temperature = float(input(\"請輸入體溫\"))\n",
        "if(temperature>=37.5):\n",
        "  print(\"體溫過高!\")\n",
        "elif(temperature>=37 and temperature<=37.4):\n",
        "  print(\"體溫略高!\")\n",
        "elif(temperature>=34 and temperature<=36.9):\n",
        "  print(\"體溫正常!\")\n",
        "else:\n",
        "  print(\"體溫異常，請重新量測!\")"
      ],
      "metadata": {
        "colab": {
          "base_uri": "https://localhost:8080/"
        },
        "id": "HTMiBSRR_vc9",
        "outputId": "4b03bc62-ad5a-4cf1-8971-ebd5d01431f2"
      },
      "execution_count": 4,
      "outputs": [
        {
          "output_type": "stream",
          "name": "stdout",
          "text": [
            "請輸入體溫33.5\n",
            "體溫異常，請重新量測!\n"
          ]
        }
      ]
    },
    {
      "cell_type": "code",
      "execution_count": 5,
      "metadata": {
        "colab": {
          "base_uri": "https://localhost:8080/"
        },
        "id": "ZCWBtNfWu8Zl",
        "outputId": "300b1cd3-5337-46be-9ae2-56e4a107444b"
      },
      "outputs": [
        {
          "output_type": "stream",
          "name": "stdout",
          "text": [
            "請輸入成績90\n",
            "A\n"
          ]
        }
      ],
      "source": [
        "score = int(input(\"請輸入成績\"))\n",
        "if(score>=90):\n",
        "  print(\"A\")\n",
        "elif(score>=80 and score<=89):\n",
        "  print(\"B\")\n",
        "elif(score>=70 and score<=79):\n",
        "  print(\"C\")\n",
        "elif(score>=60 and score<=69):\n",
        "  print(\"D\")\n",
        "else:\n",
        "  print(\"E\")"
      ]
    },
    {
      "cell_type": "code",
      "source": [
        "score = int(input(\"請輸入成績\"))\n",
        "if(score>=90):\n",
        "  print(\"A\")\n",
        "elif(score>=80 and score<=89):\n",
        "  print(\"B\")\n",
        "elif(score>=70 and score<=79):\n",
        "  print(\"C\")\n",
        "elif(score>=60 and score<=69):\n",
        "  print(\"D\")\n",
        "else:\n",
        "  print(\"E\")"
      ],
      "metadata": {
        "colab": {
          "base_uri": "https://localhost:8080/"
        },
        "id": "7ocFyp-C_01B",
        "outputId": "8cdaa3c6-020c-4fe7-81bd-10b8dc7ab076"
      },
      "execution_count": 6,
      "outputs": [
        {
          "output_type": "stream",
          "name": "stdout",
          "text": [
            "請輸入成績80\n",
            "B\n"
          ]
        }
      ]
    },
    {
      "cell_type": "code",
      "source": [
        "score = int(input(\"請輸入成績\"))\n",
        "if(score>=90):\n",
        "  print(\"A\")\n",
        "elif(score>=80 and score<=89):\n",
        "  print(\"B\")\n",
        "elif(score>=70 and score<=79):\n",
        "  print(\"C\")\n",
        "elif(score>=60 and score<=69):\n",
        "  print(\"D\")\n",
        "else:\n",
        "  print(\"E\")"
      ],
      "metadata": {
        "colab": {
          "base_uri": "https://localhost:8080/"
        },
        "id": "BqE2ZB6bALAs",
        "outputId": "063f7c5d-1c50-4e4f-aedc-a2027537a0fc"
      },
      "execution_count": 7,
      "outputs": [
        {
          "output_type": "stream",
          "name": "stdout",
          "text": [
            "請輸入成績75\n",
            "C\n"
          ]
        }
      ]
    },
    {
      "cell_type": "code",
      "source": [
        "score = int(input(\"請輸入成績\"))\n",
        "if(score>=90):\n",
        "  print(\"A\")\n",
        "elif(score>=80 and score<=89):\n",
        "  print(\"B\")\n",
        "elif(score>=70 and score<=79):\n",
        "  print(\"C\")\n",
        "elif(score>=60 and score<=69):\n",
        "  print(\"D\")\n",
        "else:\n",
        "  print(\"E\")"
      ],
      "metadata": {
        "colab": {
          "base_uri": "https://localhost:8080/"
        },
        "id": "O-iPWT-HAQ0G",
        "outputId": "4e54faf8-83c2-4fc5-eb4a-2efb04e848ac"
      },
      "execution_count": 8,
      "outputs": [
        {
          "output_type": "stream",
          "name": "stdout",
          "text": [
            "請輸入成績66\n",
            "D\n"
          ]
        }
      ]
    },
    {
      "cell_type": "code",
      "source": [
        "score = int(input(\"請輸入成績\"))\n",
        "if(score>=90):\n",
        "  print(\"A\")\n",
        "elif(score>=80 and score<=89):\n",
        "  print(\"B\")\n",
        "elif(score>=70 and score<=79):\n",
        "  print(\"C\")\n",
        "elif(score>=60 and score<=69):\n",
        "  print(\"D\")\n",
        "else:\n",
        "  print(\"E\")"
      ],
      "metadata": {
        "colab": {
          "base_uri": "https://localhost:8080/"
        },
        "id": "UpBxUJHMAZyP",
        "outputId": "fb8063ea-7509-4d1d-e277-faa1b4077302"
      },
      "execution_count": 9,
      "outputs": [
        {
          "output_type": "stream",
          "name": "stdout",
          "text": [
            "請輸入成績50\n",
            "E\n"
          ]
        }
      ]
    },
    {
      "cell_type": "code",
      "source": [
        "month = int(input(\"請輸入月份\"))\n",
        "if(month>=3 and month<=5):\n",
        "  print(month,\"月是春天\")\n",
        "elif(month>=6 and month<=8):\n",
        "  print(month,\"月是夏天\")\n",
        "elif(month>=9 and month<=11):\n",
        "  print(month,\"月是秋天\")\n",
        "elif(month==12 or month<=2):\n",
        "  print(month,\"月是冬天\")\n",
        "else:\n",
        "  print(\"月份不在範圍內!\")"
      ],
      "metadata": {
        "colab": {
          "base_uri": "https://localhost:8080/"
        },
        "id": "sk5OVTN93cZ4",
        "outputId": "13420b77-cdf8-4ba2-e4d9-ce16497e6f6c"
      },
      "execution_count": 10,
      "outputs": [
        {
          "output_type": "stream",
          "name": "stdout",
          "text": [
            "請輸入月份3\n",
            "3 月是春天\n"
          ]
        }
      ]
    },
    {
      "cell_type": "code",
      "source": [
        "month = int(input(\"請輸入月份\"))\n",
        "if(month>=3 and month<=5):\n",
        "  print(month,\"月是春天\")\n",
        "elif(month>=6 and month<=8):\n",
        "  print(month,\"月是夏天\")\n",
        "elif(month>=9 and month<=11):\n",
        "  print(month,\"月是秋天\")\n",
        "elif(month==12 or month<=2):\n",
        "  print(month,\"月是冬天\")\n",
        "else:\n",
        "  print(\"月份不在範圍內!\")"
      ],
      "metadata": {
        "colab": {
          "base_uri": "https://localhost:8080/"
        },
        "id": "2FI7_4nvAg3w",
        "outputId": "36ac8fd0-a2ae-4581-81d1-e6c2e02d3ce3"
      },
      "execution_count": 11,
      "outputs": [
        {
          "output_type": "stream",
          "name": "stdout",
          "text": [
            "請輸入月份7\n",
            "7 月是夏天\n"
          ]
        }
      ]
    },
    {
      "cell_type": "code",
      "source": [
        "month = int(input(\"請輸入月份\"))\n",
        "if(month>=3 and month<=5):\n",
        "  print(month,\"月是春天\")\n",
        "elif(month>=6 and month<=8):\n",
        "  print(month,\"月是夏天\")\n",
        "elif(month>=9 and month<=11):\n",
        "  print(month,\"月是秋天\")\n",
        "elif(month==12 or month<=2):\n",
        "  print(month,\"月是冬天\")\n",
        "else:\n",
        "  print(\"月份不在範圍內!\")"
      ],
      "metadata": {
        "colab": {
          "base_uri": "https://localhost:8080/"
        },
        "id": "_Ca_X17uAkrv",
        "outputId": "96e77567-24ee-47ef-d54d-7087257ad871"
      },
      "execution_count": 12,
      "outputs": [
        {
          "output_type": "stream",
          "name": "stdout",
          "text": [
            "請輸入月份9\n",
            "9 月是秋天\n"
          ]
        }
      ]
    },
    {
      "cell_type": "code",
      "source": [
        "month = int(input(\"請輸入月份\"))\n",
        "if(month>=3 and month<=5):\n",
        "  print(month,\"月是春天\")\n",
        "elif(month>=6 and month<=8):\n",
        "  print(month,\"月是夏天\")\n",
        "elif(month>=9 and month<=11):\n",
        "  print(month,\"月是秋天\")\n",
        "elif(month==12 or month<=2):\n",
        "  print(month,\"月是冬天\")\n",
        "else:\n",
        "  print(\"月份不在範圍內!\")"
      ],
      "metadata": {
        "colab": {
          "base_uri": "https://localhost:8080/"
        },
        "id": "4CNemE6YAnlz",
        "outputId": "e001c0e4-dfb5-4b8d-eb77-77879e0713a1"
      },
      "execution_count": 13,
      "outputs": [
        {
          "output_type": "stream",
          "name": "stdout",
          "text": [
            "請輸入月份1\n",
            "1 月是冬天\n"
          ]
        }
      ]
    },
    {
      "cell_type": "code",
      "source": [
        "month = int(input(\"請輸入月份\"))\n",
        "if(month>=3 and month<=5):\n",
        "  print(month,\"月是春天\")\n",
        "elif(month>=6 and month<=8):\n",
        "  print(month,\"月是夏天\")\n",
        "elif(month>=9 and month<=11):\n",
        "  print(month,\"月是秋天\")\n",
        "elif(month==12 or month<=2):\n",
        "  print(month,\"月是冬天\")\n",
        "else:\n",
        "  print(\"月份不在範圍內!\")"
      ],
      "metadata": {
        "colab": {
          "base_uri": "https://localhost:8080/"
        },
        "id": "qhgrqFvXAqBO",
        "outputId": "ed1d0e28-afea-47cc-fa4e-e1c17e364c21"
      },
      "execution_count": 14,
      "outputs": [
        {
          "output_type": "stream",
          "name": "stdout",
          "text": [
            "請輸入月份15\n",
            "月份不在範圍內!\n"
          ]
        }
      ]
    }
  ]
}