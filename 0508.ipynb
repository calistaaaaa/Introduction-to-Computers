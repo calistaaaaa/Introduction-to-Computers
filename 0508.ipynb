{
  "nbformat": 4,
  "nbformat_minor": 0,
  "metadata": {
    "colab": {
      "provenance": [],
      "authorship_tag": "ABX9TyPqPgVswT0yippzB5MFGIHK",
      "include_colab_link": true
    },
    "kernelspec": {
      "name": "python3",
      "display_name": "Python 3"
    },
    "language_info": {
      "name": "python"
    }
  },
  "cells": [
    {
      "cell_type": "markdown",
      "metadata": {
        "id": "view-in-github",
        "colab_type": "text"
      },
      "source": [
        "<a href=\"https://colab.research.google.com/github/calistaaaaa/Introduction-to-Computers/blob/main/0508.ipynb\" target=\"_parent\"><img src=\"https://colab.research.google.com/assets/colab-badge.svg\" alt=\"Open In Colab\"/></a>"
      ]
    },
    {
      "cell_type": "code",
      "execution_count": 1,
      "metadata": {
        "colab": {
          "base_uri": "https://localhost:8080/"
        },
        "id": "3fL2SWsbEQTf",
        "outputId": "25ea472f-8989-49fa-918b-691fe04c3654"
      },
      "outputs": [
        {
          "output_type": "stream",
          "name": "stdout",
          "text": [
            "你年齡太小\n",
            "須年滿20歲才可以購買菸酒\n"
          ]
        }
      ],
      "source": [
        "age = 18\n",
        "if(age<20): #條件後面一定要加冒號\n",
        "  print(\"你年齡太小\")\n",
        "  print(\"須年滿20歲才可以購買菸酒\")"
      ]
    },
    {
      "cell_type": "code",
      "source": [
        "age = input(\"請輸入年齡\")\n",
        "if(int(age)<20):\n",
        "  print(\"你年齡太小\")\n",
        "  print(\"須年滿20歲才可以購買菸酒\")\n",
        "else:\n",
        "  print(\"歡迎購買菸酒\")"
      ],
      "metadata": {
        "colab": {
          "base_uri": "https://localhost:8080/"
        },
        "id": "n5Dh-rKkFpVT",
        "outputId": "15125fb6-93d2-45e0-cc82-d1315ef0b9bb"
      },
      "execution_count": 2,
      "outputs": [
        {
          "output_type": "stream",
          "name": "stdout",
          "text": [
            "請輸入年齡18\n",
            "你年齡太小\n",
            "須年滿20歲才可以購買菸酒\n"
          ]
        }
      ]
    },
    {
      "cell_type": "code",
      "source": [
        "print(\"計算最終成績\")\n",
        "score = input(\"請輸入分數\")\n",
        "sc = int(score)\n",
        "if(sc>=90):\n",
        "  print(\"A\")\n",
        "elif(sc>=80):\n",
        "  print(\"B\")\n",
        "elif(sc>=70):\n",
        "  print(\"C\")\n",
        "elif(sc>=60):\n",
        "  print(\"D\")\n",
        "else:\n",
        "  print(\"F\")"
      ],
      "metadata": {
        "colab": {
          "base_uri": "https://localhost:8080/"
        },
        "id": "0NxmilzgGe4t",
        "outputId": "e393cef0-578e-4970-a265-d2e60ac179be"
      },
      "execution_count": 3,
      "outputs": [
        {
          "output_type": "stream",
          "name": "stdout",
          "text": [
            "計算最終成績\n",
            "請輸入分數91\n",
            "A\n"
          ]
        }
      ]
    },
    {
      "cell_type": "code",
      "source": [
        "print(\"判斷輸入年份是否閏年\")\n",
        "year = int(input(\"請輸入年份:\"))\n",
        "rem4 = year%4\n",
        "rem100 = year%100\n",
        "rem400 = year%400\n",
        "if rem4 == 0:\n",
        "  if rem100!=0 or rem400 == 0:\n",
        "    print(\"是閏年:\",year)\n",
        "  else:\n",
        "    print(\"是平年:\",year)\n",
        "else:\n",
        "  print(\"是平年:\",year)"
      ],
      "metadata": {
        "colab": {
          "base_uri": "https://localhost:8080/"
        },
        "id": "uN4P80csHx0Q",
        "outputId": "3620c428-8a7a-4aaa-d983-04e650ce528d"
      },
      "execution_count": 4,
      "outputs": [
        {
          "output_type": "stream",
          "name": "stdout",
          "text": [
            "判斷輸入年份是否閏年\n",
            "請輸入年份:2020\n",
            "是閏年: 2020\n"
          ]
        }
      ]
    },
    {
      "cell_type": "code",
      "source": [
        "a = int(input())\n",
        "if(a>=0):\n",
        "  if(a%2==0):\n",
        "    print(\"{} is even\".format(a))\n",
        "  else:\n",
        "    print(\"{} is odd\".format(a))\n",
        "else:\n",
        "  print(\"Input Error\")\n"
      ],
      "metadata": {
        "colab": {
          "base_uri": "https://localhost:8080/"
        },
        "id": "8jEmsTWsJgUC",
        "outputId": "b4e506af-2366-4122-a304-da6b3ef61a61"
      },
      "execution_count": 5,
      "outputs": [
        {
          "output_type": "stream",
          "name": "stdout",
          "text": [
            "99\n",
            "99 is odd\n"
          ]
        }
      ]
    }
  ]
}